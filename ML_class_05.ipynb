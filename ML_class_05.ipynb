{
 "cells": [
  {
   "cell_type": "markdown",
   "id": "3e4a1aa4-d342-4270-9bfd-b37ddc3f743b",
   "metadata": {},
   "source": [
    "### Support Vector Machines"
   ]
  },
  {
   "cell_type": "code",
   "execution_count": 1,
   "id": "5b4b22f9-df43-4ea7-917e-feab820a0691",
   "metadata": {},
   "outputs": [],
   "source": [
    "import numpy as np\n",
    "import pandas as pd\n",
    "import matplotlib.pyplot as plt\n",
    "import seaborn as sns; sns.set()\n",
    "\n",
    "%matplotlib inline"
   ]
  },
  {
   "cell_type": "code",
   "execution_count": 24,
   "id": "9167cac1-9cf4-4003-bf19-1f59ac9eea15",
   "metadata": {},
   "outputs": [],
   "source": [
    "def plot_svm_decision_boundary(vm_clf, xmin, xmax):\n",
    "    w = svm_clf.coef_[0]\n",
    "    b = svm_clf.intercept_[0]\n",
    "    \n",
    "    # at the decision boundary w0x0 + W1x1 + b = 0\n",
    "    # => x1 = -w0/w1x0 - b/w1\n",
    "    \n",
    "    x0 = np.linspace(xmin, xmax, 200)\n",
    "    dec_boundary = -w[0]/w[1] * x0 - b/w[1]\n",
    "    \n",
    "    gutter_up = dec_boundary + margin\n",
    "    gutter_down = dec_boundary - margin\n",
    "    \n",
    "    svs = svm_clf.support_vectors_\n",
    "    \n",
    "    plt.scatter(svs[:,0], svs[:,1], s=100, facecolors=\"red\")\n",
    "    plt.plot(x0, dec_boundary, 'r--', lw = 2)\n",
    "    plt.plot(x0, gutter_up, 'k-', lw=2)\n",
    "    plt.plot(x0, gutter_down, 'k-', lw=2)"
   ]
  },
  {
   "cell_type": "code",
   "execution_count": 10,
   "id": "e67613a7-4cc5-4337-9f74-6a394560a2fa",
   "metadata": {},
   "outputs": [],
   "source": [
    "from sklearn.svm import SVC\n",
    "from sklearn.datasets import load_iris\n",
    "\n",
    "iris = load_iris()"
   ]
  },
  {
   "cell_type": "code",
   "execution_count": 19,
   "id": "190994f5-2558-487f-926c-9329ade7709a",
   "metadata": {},
   "outputs": [],
   "source": [
    "y = iris['target']\n",
    "X = iris['data'][:, (2,3)] #petal length and petal width"
   ]
  },
  {
   "cell_type": "code",
   "execution_count": 21,
   "id": "6e10daa9-df08-4486-b5d4-215d56f1cb84",
   "metadata": {},
   "outputs": [],
   "source": [
    "setosa_or_verginica = (y==0) | (y==1)\n",
    "X = X[setosa_or_verginica]\n",
    "y = y[setosa_or_verginica] "
   ]
  },
  {
   "cell_type": "code",
   "execution_count": 13,
   "id": "fc5cbaf0-1911-44fd-9215-c45be4da100a",
   "metadata": {},
   "outputs": [
    {
     "data": {
      "text/plain": [
       "array([1])"
      ]
     },
     "execution_count": 13,
     "metadata": {},
     "output_type": "execute_result"
    }
   ],
   "source": [
    "svm_clf = SVC(kernel = 'linear', C=float('inf'))\n",
    "svm_clf.fit(X,y)\n",
    "svm_clf.predict([[2.4,3.1]])"
   ]
  },
  {
   "cell_type": "code",
   "execution_count": null,
   "id": "b45df7e0-2590-4828-b26b-c3fe1094c8a5",
   "metadata": {},
   "outputs": [],
   "source": [
    "from sklearn.preprocessing import StandardScaler\n",
    "plt.figure(figsize=(12,10))\n",
    "scaler = StandardScaler()\n",
    "X_scaled = scaler.fit_transform(X)\n",
    "svm_clf.fit(X_scaled,y)\n",
    "\n",
    "plt.plot(X_scaled[:,0][y==1], X_scaled[:,1], 'bo')\n",
    "plt.plot(X_scaled[:,0][y==0], X_scaled[:,1], 'ms')\n",
    "\n",
    "plot_svm_decision_boundary(svm_clf, -2, 2)\n",
    "plt.xlabel('Petal width normalized', fontsize=10)\n",
    "plt.ylabel('Petal length normalized', fontsize=10)\n",
    "plt.title('Scaled', fontsize=14)\n",
    "plt.axis([-2,2,-2,2]);"
   ]
  },
  {
   "cell_type": "code",
   "execution_count": 18,
   "id": "4b532855-ad03-4888-8738-3b6eb4dcacec",
   "metadata": {},
   "outputs": [
    {
     "data": {
      "text/plain": [
       "((100, 2), (100,))"
      ]
     },
     "execution_count": 18,
     "metadata": {},
     "output_type": "execute_result"
    }
   ],
   "source": [
    "X.shape, y.shape"
   ]
  },
  {
   "cell_type": "markdown",
   "id": "8537addc-6663-4dcf-94ef-d42669d91dc9",
   "metadata": {},
   "source": [
    "### Nonlinear SVC "
   ]
  },
  {
   "cell_type": "code",
   "execution_count": 63,
   "id": "b5544514-f65e-4453-ab7e-973477cccb41",
   "metadata": {},
   "outputs": [],
   "source": [
    "from sklearn.datasets import make_moons\n",
    "from sklearn.pipeline import Pipeline\n",
    "from sklearn.preprocessing import PolynomialFeatures\n",
    "from sklearn.preprocessing import StandardScaler\n",
    "from sklearn.svm import SVC"
   ]
  },
  {
   "cell_type": "code",
   "execution_count": 64,
   "id": "314ca700-f0b1-40a9-a82b-4b74882df4d5",
   "metadata": {},
   "outputs": [],
   "source": [
    "# construct some datasets\n",
    "X,y = make_moons(n_samples=100, noise=0.15, random_state=42)"
   ]
  },
  {
   "cell_type": "code",
   "execution_count": 84,
   "id": "3359b03c-bfc5-47fe-be7d-288907fcce41",
   "metadata": {},
   "outputs": [],
   "source": [
    "# define a function\n",
    "\n",
    "def plot_dataset(X,y,axs):\n",
    "    plt.plot(X[:,0][y==0], X[:,1][y==0],'D', c='r')\n",
    "    plt.plot(X[:,0][y==1], X[:,1][y==1],'X')\n",
    "    plt.axis(axs)\n",
    "    #plt.grid(True, which='both')\n",
    "    plt.xlabel(r'$x_1$', fontsize=20)\n",
    "    plt.ylabel(r'$x_2$', fontsize=20, rotation = 0)\n",
    "    plt.title('Nonlinear SVM/n/n', fontsize=18)"
   ]
  },
  {
   "cell_type": "code",
   "execution_count": 85,
   "id": "3ebc2b76-7942-451e-9d3f-42ed1c33f1e1",
   "metadata": {},
   "outputs": [
    {
     "data": {
      "image/png": "[encoded data removed]",
      "text/plain": [
       "<Figure size 432x288 with 1 Axes>"
      ]
     },
     "metadata": {
      "needs_background": "light"
     },
     "output_type": "display_data"
    }
   ],
   "source": [
    "plot_dataset(X, y, [-1.5,2.5,-1,1.5]);"
   ]
  },
  {
   "cell_type": "markdown",
   "id": "92853cf3-25eb-4b42-a3f4-6f624d0bd316",
   "metadata": {},
   "source": [
    "### prediction function\n",
    "\n",
    "def plot_prediction(clf, axis):\n",
    "    x0s = np.linspace(axis[0], axis[1], 100)\n",
    "    x1s = np.linspace(axis[2], axis[3], 100)\n",
    "    x0,x1 = np.meshgrid(x0s, x1s)\n",
    "    \n",
    "    X = np.c_[x0.ravel(), x1.ravel()]\n",
    "    y_pred = clf.predict(X).reshape(x0.shape)\n",
    "    y_dec = clf.decision_function(X).reshape(x0.shape)\n",
    "    \n",
    "    plt.contourf(x0, x1, y_pred, cmap=plt.cm.brg, alpha=0.2)\n",
    "    plt.contourf(x0, x1, y_dec, cmap=plt.cm.brg, alpha=0.2)"
   ]
  },
  {
   "cell_type": "code",
   "execution_count": 69,
   "id": "d44fbf69-94ad-4c21-a738-460766ce37ab",
   "metadata": {},
   "outputs": [
    {
     "data": {
      "text/plain": [
       "Pipeline(steps=[('poly_feature', PolynomialFeatures(degree=3)),\n",
       "                ('scaler', StandardScaler()),\n",
       "                ('svm_clf', SVC(C=5, coef0=1, degree=10, kernel='poly'))])"
      ]
     },
     "execution_count": 69,
     "metadata": {},
     "output_type": "execute_result"
    }
   ],
   "source": [
    "# create a pipeline to polynomial of degree 3\n",
    "\n",
    "polynomial_svm_clf = Pipeline((('poly_feature', PolynomialFeatures(degree=3)),\n",
    "                         ('scaler', StandardScaler()),\n",
    "                         ('svm_clf', SVC(kernel='poly', degree=10, coef0=1, C=5))\n",
    "                       ))\n",
    "\n",
    "# call the pipline\n",
    "polynomial_svm_clf.fit(X,y)"
   ]
  },
  {
   "cell_type": "code",
   "execution_count": 86,
   "id": "19764eb6-f8af-4734-b690-1fb9d436daab",
   "metadata": {},
   "outputs": [
    {
     "data": {
      "image/png": "[encoded data removed]",
      "text/plain": [
       "<Figure size 864x720 with 1 Axes>"
      ]
     },
     "metadata": {
      "needs_background": "light"
     },
     "output_type": "display_data"
    }
   ],
   "source": [
    "plt.figure(figsize=(12,10))\n",
    "\n",
    "plot_prediction(polynomial_svm_clf, [-1.5,2.5,-1,1.5])\n",
    "\n",
    "# plot the dataset\n",
    "plot_dataset(X,y, [-1.5,2.5,-1,1.5])\n",
    "plt.title(r'$d=3, coef0=1, C=5$', fontsize=16);"
   ]
  },
  {
   "cell_type": "markdown",
   "id": "0ff46e3c-cbce-4c51-83dc-6784121c34aa",
   "metadata": {},
   "source": [
    "### try to change the polynomial SVC kernel with RBF kernel"
   ]
  },
  {
   "cell_type": "code",
   "execution_count": null,
   "id": "003dd3be-425c-4a43-805a-dd730c10cdff",
   "metadata": {},
   "outputs": [],
   "source": []
  }
 ],
 "metadata": {
  "kernelspec": {
   "display_name": "Python 3",
   "language": "python",
   "name": "python3"
  },
  "language_info": {
   "codemirror_mode": {
    "name": "ipython",
    "version": 3
   },
   "file_extension": ".py",
   "mimetype": "text/x-python",
   "name": "python",
   "nbconvert_exporter": "python",
   "pygments_lexer": "ipython3",
   "version": "3.8.11"
  }
 },
 "nbformat": 4,
 "nbformat_minor": 5
}

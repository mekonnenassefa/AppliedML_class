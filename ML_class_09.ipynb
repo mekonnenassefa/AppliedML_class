{
 "cells": [
  {
   "cell_type": "markdown",
   "id": "3565cbb9-97b3-494b-86b0-5d6a30931748",
   "metadata": {},
   "source": [
    "### Class 09 \n",
    "\n",
    "### Unsupervised Learning"
   ]
  },
  {
   "cell_type": "code",
   "execution_count": 5,
   "id": "5c6d9510-01c0-4cd8-8aa8-3681f0c8753c",
   "metadata": {},
   "outputs": [],
   "source": [
    "%matplotlib inline\n",
    "import numpy as np\n",
    "import matplotlib.pyplot as plt\n",
    "import pandas as pd\n",
    "import seaborn as sns; sns.set()"
   ]
  },
  {
   "cell_type": "code",
   "execution_count": 6,
   "id": "ed032dc2-d615-43a5-b368-c910522805e6",
   "metadata": {},
   "outputs": [],
   "source": [
    "from sklearn.datasets import load_iris\n",
    "iris = load_iris()\n",
    "X = iris.data\n",
    "y = iris.target"
   ]
  },
  {
   "cell_type": "code",
   "execution_count": 34,
   "id": "69716478-602d-4030-8f36-1052574a452f",
   "metadata": {
    "tags": []
   },
   "outputs": [
    {
     "data": {
      "text/html": [
       "<div>\n",
       "<style scoped>\n",
       "    .dataframe tbody tr th:only-of-type {\n",
       "        vertical-align: middle;\n",
       "    }\n",
       "\n",
       "    .dataframe tbody tr th {\n",
       "        vertical-align: top;\n",
       "    }\n",
       "\n",
       "    .dataframe thead th {\n",
       "        text-align: right;\n",
       "    }\n",
       "</style>\n",
       "<table border=\"1\" class=\"dataframe\">\n",
       "  <thead>\n",
       "    <tr style=\"text-align: right;\">\n",
       "      <th></th>\n",
       "      <th>0</th>\n",
       "      <th>1</th>\n",
       "      <th>2</th>\n",
       "      <th>3</th>\n",
       "    </tr>\n",
       "  </thead>\n",
       "  <tbody>\n",
       "    <tr>\n",
       "      <th>0</th>\n",
       "      <td>5.1</td>\n",
       "      <td>3.5</td>\n",
       "      <td>1.4</td>\n",
       "      <td>0.2</td>\n",
       "    </tr>\n",
       "    <tr>\n",
       "      <th>1</th>\n",
       "      <td>4.9</td>\n",
       "      <td>3.0</td>\n",
       "      <td>1.4</td>\n",
       "      <td>0.2</td>\n",
       "    </tr>\n",
       "    <tr>\n",
       "      <th>2</th>\n",
       "      <td>4.7</td>\n",
       "      <td>3.2</td>\n",
       "      <td>1.3</td>\n",
       "      <td>0.2</td>\n",
       "    </tr>\n",
       "    <tr>\n",
       "      <th>3</th>\n",
       "      <td>4.6</td>\n",
       "      <td>3.1</td>\n",
       "      <td>1.5</td>\n",
       "      <td>0.2</td>\n",
       "    </tr>\n",
       "    <tr>\n",
       "      <th>4</th>\n",
       "      <td>5.0</td>\n",
       "      <td>3.6</td>\n",
       "      <td>1.4</td>\n",
       "      <td>0.2</td>\n",
       "    </tr>\n",
       "  </tbody>\n",
       "</table>\n",
       "</div>"
      ],
      "text/plain": [
       "     0    1    2    3\n",
       "0  5.1  3.5  1.4  0.2\n",
       "1  4.9  3.0  1.4  0.2\n",
       "2  4.7  3.2  1.3  0.2\n",
       "3  4.6  3.1  1.5  0.2\n",
       "4  5.0  3.6  1.4  0.2"
      ]
     },
     "execution_count": 34,
     "metadata": {},
     "output_type": "execute_result"
    }
   ],
   "source": [
    "# test data\n",
    "\n",
    "iris_df = pd.DataFrame(iris.data)\n",
    "#iris_df.describe()\n",
    "#iris_df.columns = pd.feature_targets()\n",
    "iris_df.head()\n"
   ]
  },
  {
   "cell_type": "code",
   "execution_count": 37,
   "id": "87bbcb54-8693-4fb9-90ff-d9bf5f9d58a6",
   "metadata": {},
   "outputs": [],
   "source": [
    "#iris_df.value_counts()"
   ]
  },
  {
   "cell_type": "code",
   "execution_count": 7,
   "id": "5909c10b-6529-4e27-a357-b5425cb5421b",
   "metadata": {},
   "outputs": [
    {
     "data": {
      "text/plain": [
       "((150, 4), (150,))"
      ]
     },
     "execution_count": 7,
     "metadata": {},
     "output_type": "execute_result"
    }
   ],
   "source": [
    "X.shape, y.shape"
   ]
  },
  {
   "cell_type": "code",
   "execution_count": 8,
   "id": "ec29058d-433d-48c9-87e5-1c29bf06bdf3",
   "metadata": {},
   "outputs": [],
   "source": [
    "# Standardaization\n",
    "\n",
    "from sklearn.preprocessing import StandardScaler\n",
    "\n",
    "# only on features\n",
    "X_new = StandardScaler().fit_transform(X)"
   ]
  },
  {
   "cell_type": "code",
   "execution_count": 13,
   "id": "6e17f3fa-632e-4c13-96b0-6461dd047a27",
   "metadata": {},
   "outputs": [
    {
     "data": {
      "text/plain": [
       "array([-1.69031455e-15, -1.84297022e-15, -1.69864123e-15, -1.40924309e-15])"
      ]
     },
     "execution_count": 13,
     "metadata": {},
     "output_type": "execute_result"
    }
   ],
   "source": [
    "# mean of the vectors\n",
    "\n",
    "mean_vec = np.mean(X_new, axis=0)\n",
    "mean_vec"
   ]
  },
  {
   "cell_type": "code",
   "execution_count": 22,
   "id": "5350d97f-dd44-46da-a205-e729db5c7a12",
   "metadata": {},
   "outputs": [
    {
     "name": "stdout",
     "output_type": "stream",
     "text": [
      "covariance matrix\n",
      " [[ 1.00671141 -0.11835884  0.87760447  0.82343066]\n",
      " [-0.11835884  1.00671141 -0.43131554 -0.36858315]\n",
      " [ 0.87760447 -0.43131554  1.00671141  0.96932762]\n",
      " [ 0.82343066 -0.36858315  0.96932762  1.00671141]]\n"
     ]
    }
   ],
   "source": [
    "# Covariance Matrix\n",
    "\n",
    "cov_mat = ((X_new - mean_vec).T.dot((X_new - mean_vec))) / (X_new.shape[0] - 1)\n",
    "#cov_mat\n",
    "print('covariance matrix\\n', cov_mat)"
   ]
  },
  {
   "cell_type": "code",
   "execution_count": 24,
   "id": "4dfda051-3ec0-4e28-ae74-10bc8a5ab525",
   "metadata": {},
   "outputs": [
    {
     "name": "stdout",
     "output_type": "stream",
     "text": [
      "numpy covariance matrix\n",
      " [[ 1.00671141 -0.11835884  0.87760447  0.82343066]\n",
      " [-0.11835884  1.00671141 -0.43131554 -0.36858315]\n",
      " [ 0.87760447 -0.43131554  1.00671141  0.96932762]\n",
      " [ 0.82343066 -0.36858315  0.96932762  1.00671141]]\n"
     ]
    }
   ],
   "source": [
    "# Covariance Matrix the short way\n",
    "\n",
    "print('numpy covariance matrix\\n', np.cov(X_new.T))"
   ]
  },
  {
   "cell_type": "code",
   "execution_count": 25,
   "id": "24af6fb1-59d6-40ac-b875-ffc903cee75d",
   "metadata": {},
   "outputs": [
    {
     "name": "stdout",
     "output_type": "stream",
     "text": [
      "Eigenvalues:\n",
      "[2.93808505 0.9201649  0.14774182 0.02085386]\n",
      "Eigenvectors:\n",
      "[[ 0.52106591 -0.37741762 -0.71956635  0.26128628]\n",
      " [-0.26934744 -0.92329566  0.24438178 -0.12350962]\n",
      " [ 0.5804131  -0.02449161  0.14212637 -0.80144925]\n",
      " [ 0.56485654 -0.06694199  0.63427274  0.52359713]]\n"
     ]
    }
   ],
   "source": [
    "eig_vals, eig_vecs = np.linalg.eig(np.cov(X_new.T))\n",
    "print('Eigenvalues:\\n%s'%eig_vals)\n",
    "print('Eigenvectors:\\n%s'%eig_vecs)"
   ]
  },
  {
   "cell_type": "code",
   "execution_count": 38,
   "id": "7f0437c0-d80c-45d7-8bb1-90ab0bf19d79",
   "metadata": {},
   "outputs": [
    {
     "data": {
      "text/plain": [
       "array([[ 1.08239531e-01,  9.94577561e-02,  1.12996303e-01, ...,\n",
       "        -7.27030413e-02, -6.56112167e-02, -4.59137323e-02],\n",
       "       [-4.09957970e-02,  5.75731483e-02,  2.92000319e-02, ...,\n",
       "        -2.29793601e-02, -8.63643414e-02,  2.07800179e-03],\n",
       "       [ 2.72186462e-02,  5.00034005e-02, -9.42089147e-03, ...,\n",
       "        -3.84023516e-02, -1.98939364e-01, -1.12588405e-01],\n",
       "       ...,\n",
       "       [ 5.43380310e-02,  5.12936114e-03,  2.75184277e-02, ...,\n",
       "         9.89532683e-01, -1.41206665e-02, -8.30595907e-04],\n",
       "       [ 1.96438400e-03,  8.48544595e-02,  1.78604309e-01, ...,\n",
       "        -1.25488246e-02,  9.52049996e-01, -2.19201906e-02],\n",
       "       [ 2.46978090e-03,  5.83496936e-03,  1.49419118e-01, ...,\n",
       "        -7.17729676e-04, -2.32048811e-02,  9.77300244e-01]])"
      ]
     },
     "execution_count": 38,
     "metadata": {},
     "output_type": "execute_result"
    }
   ],
   "source": [
    "u, s, v = np.linalg.svd(X_new.T)\n",
    "v"
   ]
  },
  {
   "cell_type": "code",
   "execution_count": 39,
   "id": "771f6b89-186e-4bbe-bcb3-22d11a8c3973",
   "metadata": {},
   "outputs": [
    {
     "data": {
      "text/plain": [
       "array([[-0.52106591, -0.37741762,  0.71956635,  0.26128628],\n",
       "       [ 0.26934744, -0.92329566, -0.24438178, -0.12350962],\n",
       "       [-0.5804131 , -0.02449161, -0.14212637, -0.80144925],\n",
       "       [-0.56485654, -0.06694199, -0.63427274,  0.52359713]])"
      ]
     },
     "execution_count": 39,
     "metadata": {},
     "output_type": "execute_result"
    }
   ],
   "source": [
    "u"
   ]
  },
  {
   "cell_type": "code",
   "execution_count": 41,
   "id": "54a16a96-b0b2-4714-9194-7d6a67faf40c",
   "metadata": {},
   "outputs": [
    {
     "data": {
      "text/plain": [
       "array([20.92306556, 11.7091661 ,  4.69185798,  1.76273239])"
      ]
     },
     "execution_count": 41,
     "metadata": {},
     "output_type": "execute_result"
    }
   ],
   "source": [
    "s"
   ]
  },
  {
   "cell_type": "code",
   "execution_count": 50,
   "id": "3cf9f912-6384-43fd-b9a2-0982f17e418b",
   "metadata": {},
   "outputs": [],
   "source": [
    "cor_mat1 = np.corrcoef(X_new.T)\n",
    "eig_vals, eig_vecs = np.linalg.eig(cor_mat1)"
   ]
  },
  {
   "cell_type": "code",
   "execution_count": 51,
   "id": "f630e6ca-1a69-407b-9214-5554ea2bb6c2",
   "metadata": {},
   "outputs": [],
   "source": [
    "cor_mat2 = np.corrcoef(X.T)\n",
    "eig_vals, eig_vecs = np.linalg.eig(cor_mat2)"
   ]
  },
  {
   "cell_type": "code",
   "execution_count": null,
   "id": "9150bc35-9ed3-4274-ac6c-d5652e6de345",
   "metadata": {},
   "outputs": [],
   "source": [
    "# selecting the principal components \n",
    "# sorting eigen pairs\n",
    "\n",
    "for ev in eig_vecs.T:\n",
    "    np.testing.assert_array_equal(1.0, np.linalg.norm(ev))\n",
    "print('Everything Okay')"
   ]
  },
  {
   "cell_type": "code",
   "execution_count": 57,
   "id": "174634c2-ad6d-4908-b9fc-a70b93bf8eb8",
   "metadata": {},
   "outputs": [],
   "source": [
    "eig_pairs = [ (np.abs(eig_vals[i]), eig_vecs[:,i]) for i in range (len(eig_vals)) ]\n",
    "eig_pairs.sort(key = lambda x : x[0], reverse=True)"
   ]
  },
  {
   "cell_type": "code",
   "execution_count": 59,
   "id": "303c9d83-9cc2-401e-9ebe-89513ebe7b0b",
   "metadata": {},
   "outputs": [
    {
     "name": "stdout",
     "output_type": "stream",
     "text": [
      "2.9184978165319957\n",
      "0.9140304714680701\n",
      "0.14675687557131495\n",
      "0.020714836428618884\n"
     ]
    }
   ],
   "source": [
    "for i in eig_pairs:\n",
    "    print(i[0])"
   ]
  },
  {
   "cell_type": "code",
   "execution_count": 63,
   "id": "a65ea162-713b-44a8-8399-6348dd019977",
   "metadata": {},
   "outputs": [],
   "source": [
    "### explained variance\n",
    "tot = sum(eig_vals)\n",
    "var_exp = [ (i / tot) * 100 for i in sorted(eig_vals, reverse=True)]\n",
    "cum_var_exp = np.cumsum(var_exp)"
   ]
  },
  {
   "cell_type": "code",
   "execution_count": 69,
   "id": "b2461b03-be76-4bc1-9a69-3d07f3d0c61b",
   "metadata": {},
   "outputs": [
    {
     "data": {
      "image/png": "[encoded data removed]",
      "text/plain": [
       "<Figure size 720x504 with 1 Axes>"
      ]
     },
     "metadata": {},
     "output_type": "display_data"
    }
   ],
   "source": [
    "plt.figure(figsize=(10,7))\n",
    "plt.bar(range(4), var_exp, alpha=0.5, align='center', label='individual exp variance' )\n",
    "plt.ylabel('Explain variance ratio')\n",
    "plt.xlabel('Principal Components')\n",
    "plt.legend(loc=4);"
   ]
  },
  {
   "cell_type": "code",
   "execution_count": 70,
   "id": "dc29ec76-532b-492c-b1cd-00f0b63cb66c",
   "metadata": {},
   "outputs": [
    {
     "data": {
      "image/png": "[encoded data removed]",
      "text/plain": [
       "<Figure size 720x504 with 1 Axes>"
      ]
     },
     "metadata": {},
     "output_type": "display_data"
    }
   ],
   "source": [
    "with plt.style.context('seaborn-whitegrid'):\n",
    "    plt.figure(figsize=(10,7))\n",
    "    plt.bar(range(4), var_exp, alpha=0.5, align='center', label='individual exp variance' )\n",
    "    plt.ylabel('Explain variance ratio')\n",
    "    plt.xlabel('Principal Components')\n",
    "    plt.legend(loc=4);\n"
   ]
  },
  {
   "cell_type": "markdown",
   "id": "589f5887-de99-4d6f-8574-bc08da02c2dd",
   "metadata": {},
   "source": [
    "### using the machine learning way "
   ]
  },
  {
   "cell_type": "code",
   "execution_count": null,
   "id": "20571ed8-495d-480d-ac71-676a8ba87ee9",
   "metadata": {},
   "outputs": [],
   "source": [
    "from sklearn.decomposition import PCA\n",
    "pca = PCA(n_components=2)\n",
    "X_std = pca.fit_transform(X_new)"
   ]
  },
  {
   "cell_type": "code",
   "execution_count": 80,
   "id": "f9d7195d-fc2e-4223-be79-f72dcc4ce477",
   "metadata": {},
   "outputs": [
    {
     "name": "stderr",
     "output_type": "stream",
     "text": [
      "No handles with labels found to put in legend.\n"
     ]
    },
    {
     "data": {
      "image/png": "[encoded data removed]",
      "text/plain": [
       "<Figure size 720x504 with 1 Axes>"
      ]
     },
     "metadata": {},
     "output_type": "display_data"
    }
   ],
   "source": [
    "plt.figure(figsize=(10,7))\n",
    "plt.scatter(X_std[y==0], X_std[y==1])\n",
    "plt.legend(loc='best')\n",
    "plt.xlabel('Principal Component 1')\n",
    "plt.ylabel('Principal Component 2')\n",
    "plt.tight_layout();"
   ]
  },
  {
   "cell_type": "code",
   "execution_count": 94,
   "id": "810923b8-c3b8-4104-829c-8fd93923691d",
   "metadata": {},
   "outputs": [
    {
     "name": "stderr",
     "output_type": "stream",
     "text": [
      "<ipython-input-94-d7ecca905d84>:2: FutureWarning: elementwise comparison failed; returning scalar instead, but in the future will perform elementwise comparison\n",
      "  plt.scatter(X_std[y==lab, 0],\n",
      "<ipython-input-94-d7ecca905d84>:3: FutureWarning: elementwise comparison failed; returning scalar instead, but in the future will perform elementwise comparison\n",
      "  X_std[y==lab, 1],\n"
     ]
    },
    {
     "data": {
      "image/png": "[encoded data removed]",
      "text/plain": [
       "<Figure size 432x288 with 1 Axes>"
      ]
     },
     "metadata": {},
     "output_type": "display_data"
    }
   ],
   "source": [
    "for lab, col in zip(('x', 'y', 'z'), ('blue', 'red', 'green')):\n",
    "        plt.scatter(X_std[y==lab, 0],\n",
    "                    X_std[y==lab, 1],\n",
    "                    label=lab,\n",
    "                    c=col)\n",
    "        plt.xlabel('Principal Compoent 1')\n",
    "        plt.ylabel('Principal Component 2')\n",
    "        plt.legend(loc='best')\n",
    "        plt.tight_layout();\n",
    "        #plt.show()"
   ]
  },
  {
   "cell_type": "code",
   "execution_count": null,
   "id": "cdfc49f6-455e-4738-895b-188dd22ca3ac",
   "metadata": {},
   "outputs": [],
   "source": []
  },
  {
   "cell_type": "code",
   "execution_count": null,
   "id": "bc831332-c8e0-46ba-8a8d-abca8b76947d",
   "metadata": {},
   "outputs": [],
   "source": []
  },
  {
   "cell_type": "code",
   "execution_count": null,
   "id": "6b5c8d13-c2a1-4543-93bc-ad8a2c994f58",
   "metadata": {},
   "outputs": [],
   "source": []
  }
 ],
 "metadata": {
  "kernelspec": {
   "display_name": "Python 3",
   "language": "python",
   "name": "python3"
  },
  "language_info": {
   "codemirror_mode": {
    "name": "ipython",
    "version": 3
   },
   "file_extension": ".py",
   "mimetype": "text/x-python",
   "name": "python",
   "nbconvert_exporter": "python",
   "pygments_lexer": "ipython3",
   "version": "3.8.2"
  }
 },
 "nbformat": 4,
 "nbformat_minor": 5
}

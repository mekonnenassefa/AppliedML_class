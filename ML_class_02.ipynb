{
 "cells": [
  {
   "cell_type": "code",
   "execution_count": 1,
   "id": "351207f1-80a0-49b4-91a4-9a655c626a61",
   "metadata": {},
   "outputs": [],
   "source": [
    "from sklearn.datasets import load_iris"
   ]
  },
  {
   "cell_type": "code",
   "execution_count": 3,
   "id": "edfd6d56-4a50-47c3-aff0-e83a4783e75c",
   "metadata": {},
   "outputs": [],
   "source": [
    "iris =load_iris()"
   ]
  },
  {
   "cell_type": "code",
   "execution_count": 5,
   "id": "cb869990-0546-4233-970d-f6f424779b22",
   "metadata": {},
   "outputs": [],
   "source": [
    "X = iris.data\n",
    "y = iris.target"
   ]
  },
  {
   "cell_type": "code",
   "execution_count": 6,
   "id": "7484016c-d294-4796-8827-23f877eaff16",
   "metadata": {},
   "outputs": [
    {
     "data": {
      "text/plain": [
       "((150, 4), (150,))"
      ]
     },
     "execution_count": 6,
     "metadata": {},
     "output_type": "execute_result"
    }
   ],
   "source": [
    "X.shape, y.shape"
   ]
  },
  {
   "cell_type": "code",
   "execution_count": 10,
   "id": "e20fd323-2fb4-41f0-aadc-7965a43f7e4a",
   "metadata": {},
   "outputs": [],
   "source": [
    "import pandas as pd\n",
    "import numpy as np"
   ]
  },
  {
   "cell_type": "code",
   "execution_count": 13,
   "id": "99c9053e-9cc9-4b21-9a7a-17dc43a93baf",
   "metadata": {},
   "outputs": [
    {
     "data": {
      "text/html": [
       "<div>\n",
       "<style scoped>\n",
       "    .dataframe tbody tr th:only-of-type {\n",
       "        vertical-align: middle;\n",
       "    }\n",
       "\n",
       "    .dataframe tbody tr th {\n",
       "        vertical-align: top;\n",
       "    }\n",
       "\n",
       "    .dataframe thead th {\n",
       "        text-align: right;\n",
       "    }\n",
       "</style>\n",
       "<table border=\"1\" class=\"dataframe\">\n",
       "  <thead>\n",
       "    <tr style=\"text-align: right;\">\n",
       "      <th></th>\n",
       "      <th>0</th>\n",
       "      <th>1</th>\n",
       "      <th>2</th>\n",
       "      <th>3</th>\n",
       "    </tr>\n",
       "  </thead>\n",
       "  <tbody>\n",
       "    <tr>\n",
       "      <th>0</th>\n",
       "      <td>5.1</td>\n",
       "      <td>3.5</td>\n",
       "      <td>1.4</td>\n",
       "      <td>0.2</td>\n",
       "    </tr>\n",
       "    <tr>\n",
       "      <th>1</th>\n",
       "      <td>4.9</td>\n",
       "      <td>3.0</td>\n",
       "      <td>1.4</td>\n",
       "      <td>0.2</td>\n",
       "    </tr>\n",
       "    <tr>\n",
       "      <th>2</th>\n",
       "      <td>4.7</td>\n",
       "      <td>3.2</td>\n",
       "      <td>1.3</td>\n",
       "      <td>0.2</td>\n",
       "    </tr>\n",
       "    <tr>\n",
       "      <th>3</th>\n",
       "      <td>4.6</td>\n",
       "      <td>3.1</td>\n",
       "      <td>1.5</td>\n",
       "      <td>0.2</td>\n",
       "    </tr>\n",
       "    <tr>\n",
       "      <th>4</th>\n",
       "      <td>5.0</td>\n",
       "      <td>3.6</td>\n",
       "      <td>1.4</td>\n",
       "      <td>0.2</td>\n",
       "    </tr>\n",
       "  </tbody>\n",
       "</table>\n",
       "</div>"
      ],
      "text/plain": [
       "     0    1    2    3\n",
       "0  5.1  3.5  1.4  0.2\n",
       "1  4.9  3.0  1.4  0.2\n",
       "2  4.7  3.2  1.3  0.2\n",
       "3  4.6  3.1  1.5  0.2\n",
       "4  5.0  3.6  1.4  0.2"
      ]
     },
     "execution_count": 13,
     "metadata": {},
     "output_type": "execute_result"
    }
   ],
   "source": [
    "x1 = pd.DataFrame(X)\n",
    "x1.head()"
   ]
  },
  {
   "cell_type": "code",
   "execution_count": 14,
   "id": "3650ef1f-35d3-4434-8c49-8155f060eb6e",
   "metadata": {},
   "outputs": [],
   "source": [
    "from sklearn.neighbors import KNeighborsClassifier\n",
    "imodel = KNeighborsClassifier(n_neighbors=1)"
   ]
  },
  {
   "cell_type": "code",
   "execution_count": 23,
   "id": "b17e39ee-67a8-48a8-ba51-059564c88716",
   "metadata": {},
   "outputs": [],
   "source": [
    "imodel.fit(X,y)\n",
    "y_pred = imodel.predict(X)"
   ]
  },
  {
   "cell_type": "code",
   "execution_count": 29,
   "id": "a7ab4e91-4775-4096-8b58-e0ebbf3a08b5",
   "metadata": {},
   "outputs": [
    {
     "data": {
      "text/plain": [
       "100.0"
      ]
     },
     "execution_count": 29,
     "metadata": {},
     "output_type": "execute_result"
    }
   ],
   "source": [
    "from sklearn.metrics import accuracy_score\n",
    "accuracy_score(y, y_pred)*100  # training error"
   ]
  },
  {
   "cell_type": "markdown",
   "id": "fab89cc4-77c8-4220-89c1-3c192b8444f2",
   "metadata": {},
   "source": [
    "### Model Validation "
   ]
  },
  {
   "cell_type": "code",
   "execution_count": 31,
   "id": "8ac401b8-cd57-4913-b638-6690bf088243",
   "metadata": {},
   "outputs": [
    {
     "data": {
      "text/plain": [
       "KNeighborsClassifier(n_neighbors=1)"
      ]
     },
     "execution_count": 31,
     "metadata": {},
     "output_type": "execute_result"
    }
   ],
   "source": [
    "# one holdout set\n",
    "\n",
    "from sklearn.model_selection import train_test_split\n",
    "# split the dara with 20% in each set as test\n",
    "\n",
    "X_train, X_test, y_train, y_test = train_test_split(X, y, \n",
    "                                                    random_state=42, \n",
    "                                                    train_size=0.2)\n",
    "\n",
    "imodel.fit(X_train, y_train) # fit the model on one set of data"
   ]
  },
  {
   "cell_type": "code",
   "execution_count": 33,
   "id": "df5933c1-6350-46be-983b-a98df92d571c",
   "metadata": {},
   "outputs": [
    {
     "data": {
      "text/plain": [
       "97.5"
      ]
     },
     "execution_count": 33,
     "metadata": {},
     "output_type": "execute_result"
    }
   ],
   "source": [
    "# evaluate the model on the second set of data\n",
    "y2_pred = imodel.predict(X_test)\n",
    "accuracy_score(y_test, y2_pred)*100"
   ]
  },
  {
   "cell_type": "markdown",
   "id": "4565a553-b952-44d0-b1d5-8bc5ebb07efd",
   "metadata": {},
   "source": [
    "### Cross validation"
   ]
  },
  {
   "cell_type": "code",
   "execution_count": 36,
   "id": "fb5e5997-7ba6-4b88-9aed-4ce21b40ee0c",
   "metadata": {},
   "outputs": [
    {
     "data": {
      "text/plain": [
       "array([0.98, 0.94, 0.96])"
      ]
     },
     "execution_count": 36,
     "metadata": {},
     "output_type": "execute_result"
    }
   ],
   "source": [
    "from sklearn.model_selection import cross_val_score\n",
    "cross_val_score(imodel, X, y, cv=3)"
   ]
  },
  {
   "cell_type": "code",
   "execution_count": 52,
   "id": "cfa110cb-0098-41e7-84ca-833970ca0552",
   "metadata": {},
   "outputs": [
    {
     "data": {
      "text/plain": [
       "0.96"
      ]
     },
     "execution_count": 52,
     "metadata": {},
     "output_type": "execute_result"
    }
   ],
   "source": [
    "cross_val_score(imodel, X, y,cv=5).mean()"
   ]
  },
  {
   "cell_type": "code",
   "execution_count": 50,
   "id": "7aae3e6d-b3d1-4f95-b511-6a7352871457",
   "metadata": {},
   "outputs": [],
   "source": [
    "# One Leave out\n",
    "\n",
    "from sklearn.model_selection import LeaveOneOut\n",
    "\n",
    "loo = LeaveOneOut()\n",
    "scores = cross_val_score(imodel, X, y, cv=loo, n_jobs=-1)\n"
   ]
  },
  {
   "cell_type": "code",
   "execution_count": 49,
   "id": "eb8efe16-8510-4764-94ff-74241eecfe85",
   "metadata": {},
   "outputs": [
    {
     "data": {
      "text/plain": [
       "0.96"
      ]
     },
     "execution_count": 49,
     "metadata": {},
     "output_type": "execute_result"
    }
   ],
   "source": [
    "scores.mean()"
   ]
  },
  {
   "cell_type": "markdown",
   "id": "9c2bf0e9-ca5e-41c7-b90f-d21aca1f23b1",
   "metadata": {},
   "source": [
    "### Validation curve "
   ]
  },
  {
   "cell_type": "code",
   "execution_count": 53,
   "id": "7e8b1633-fb48-4b39-b5d2-58c9deb377a1",
   "metadata": {},
   "outputs": [],
   "source": [
    "from sklearn.preprocessing import PolynomialFeatures\n",
    "from sklearn.linear_model import LinearRegression\n",
    "from sklearn.pipeline import make_pipeline\n",
    "\n",
    "def PolynomialRegression( degree=2, **kwargs):\n",
    "    return make_pipeline(PolynomialFeatures(degree),\n",
    "                         LinearRegression(**kwargs))"
   ]
  },
  {
   "cell_type": "code",
   "execution_count": 54,
   "id": "a6082890-34b3-471f-88c5-ecdbcdfc7e6f",
   "metadata": {},
   "outputs": [],
   "source": [
    "import numpy as np"
   ]
  },
  {
   "cell_type": "code",
   "execution_count": 58,
   "id": "93b6c0f2-1799-449c-a6d4-2a52f79ef7cc",
   "metadata": {},
   "outputs": [],
   "source": [
    "# make data\n",
    "\n",
    "def make_data(N, err=1.0, rseed=1):\n",
    "    # randomly sample the data\n",
    "    rng = np.random.RandomState(rseed)\n",
    "    X = rng.rand(N, 1)**2\n",
    "    y = 10 - 1.0 / ( X.ravel() + 0.1 )\n",
    "    \n",
    "    if err > 0 :\n",
    "        y += err * rng.randn(N)\n",
    "    return X, y\n",
    "\n"
   ]
  },
  {
   "cell_type": "code",
   "execution_count": 66,
   "id": "0469d7ee-4401-4583-acde-f549a797afde",
   "metadata": {},
   "outputs": [],
   "source": [
    "X, y = make_data(40)"
   ]
  },
  {
   "cell_type": "code",
   "execution_count": 67,
   "id": "f557d7b2-771a-4d07-bbbd-b7082084400a",
   "metadata": {},
   "outputs": [
    {
     "data": {
      "image/png": "[encoded data removed]",
      "text/plain": [
       "<Figure size 432x288 with 1 Axes>"
      ]
     },
     "metadata": {},
     "output_type": "display_data"
    }
   ],
   "source": [
    "%matplotlib inline\n",
    "\n",
    "import matplotlib.pyplot as plt\n",
    "import seaborn as sns; sns.set() # plot formating\n",
    "\n",
    "X_test = np.linspace(-0.1, 1.1, 500)[:, None]\n",
    "plt.scatter(X.ravel(), y, color = 'k')\n",
    "axis = plt.axis()\n",
    "\n",
    "for degree in [1,3,5]:\n",
    "    \n",
    "    y_test = PolynomialRegression(degree).fit(X,y).predict(X_test)\n",
    "    plt.plot(X_test.ravel(), y_test, label = 'degree={0}'.format(degree))\n",
    "    \n",
    "    plt.xlim(-0.1, 1.0)\n",
    "    plt.ylim(-2, 12)\n",
    "    plt.legend(loc = 'best');\n"
   ]
  },
  {
   "cell_type": "markdown",
   "id": "e5ac9f95-9b94-4e30-bc58-97de3bddc426",
   "metadata": {},
   "source": [
    "### Validation curve "
   ]
  },
  {
   "cell_type": "code",
   "execution_count": 69,
   "id": "2e9bca88-238e-4b67-8900-d48dc0d570db",
   "metadata": {},
   "outputs": [
    {
     "name": "stderr",
     "output_type": "stream",
     "text": [
      "/home/mack/anaconda3/lib/python3.8/site-packages/sklearn/utils/validation.py:70: FutureWarning: Pass param_name=polynomialfeatures__degree, param_range=[ 0  1  2  3  4  5  6  7  8  9 10 11 12 13 14 15 16 17 18 19 20] as keyword args. From version 1.0 (renaming of 0.25) passing these as positional arguments will result in an error\n",
      "  warnings.warn(f\"Pass {args_msg} as keyword args. From version \"\n"
     ]
    },
    {
     "data": {
      "image/png": "[encoded data removed]",
      "text/plain": [
       "<Figure size 432x288 with 1 Axes>"
      ]
     },
     "metadata": {},
     "output_type": "display_data"
    }
   ],
   "source": [
    "from sklearn.model_selection import validation_curve\n",
    "degree = np.arange(0, 21)\n",
    "train_score, val_score = validation_curve(PolynomialRegression(), X, y,\n",
    "                                         'polynomialfeatures__degree', degree, cv=7)\n",
    "\n",
    "plt.plot(degree, np.median(train_score,1), color='b', label='training score')\n",
    "plt.plot(degree, np.median(val_score, 1 ), color='r', label='validation score')\n",
    "plt.legend(loc='best')\n",
    "plt.ylim(0,1)\n",
    "plt.xlabel('Degree')\n",
    "plt.ylabel('Score');"
   ]
  },
  {
   "cell_type": "code",
   "execution_count": null,
   "id": "c987b251-de69-4359-87fe-c4227175c4ee",
   "metadata": {},
   "outputs": [],
   "source": []
  }
 ],
 "metadata": {
  "kernelspec": {
   "display_name": "Python 3",
   "language": "python",
   "name": "python3"
  },
  "language_info": {
   "codemirror_mode": {
    "name": "ipython",
    "version": 3
   },
   "file_extension": ".py",
   "mimetype": "text/x-python",
   "name": "python",
   "nbconvert_exporter": "python",
   "pygments_lexer": "ipython3",
   "version": "3.8.10"
  }
 },
 "nbformat": 4,
 "nbformat_minor": 5
}
